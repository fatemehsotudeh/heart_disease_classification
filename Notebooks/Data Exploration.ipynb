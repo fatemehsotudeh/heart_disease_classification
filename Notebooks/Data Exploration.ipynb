{
 "cells": [
  {
   "cell_type": "markdown",
   "id": "266d7551",
   "metadata": {},
   "source": [
    "# Data Exploration"
   ]
  },
  {
   "cell_type": "markdown",
   "id": "4566661a",
   "metadata": {},
   "source": [
    "## 1. Problem Definition\n",
    ">The objective is to build a predictive model that can take input features and accurately classify a patient as having heart disease or not"
   ]
  },
  {
   "cell_type": "markdown",
   "id": "1daff636",
   "metadata": {},
   "source": [
    "## 2. Data\n",
    "\n",
    "<b>our data came from belove link:</b>\n",
    " - [heart disease dataset](https://www.kaggle.com/datasets/sumaiyatasmeem/heart-disease-classification-dataset)\n",
    "\n",
    "> The original dataset contains 76 attributes, but here only 14 attributes will be used.\n",
    "\n",
    "The dataset used for this project contains various medical and lifestyle attributes of patients, like age, sex, cholesterol levels. The target variable indicates whether a patient has heart disease (1) or not (0).\n",
    "\n",
    "**variables**:\n",
    "      \n",
    " - `independent`: attributes and features\n",
    " \n",
    " - `dependent`: target\n",
    " "
   ]
  },
  {
   "cell_type": "markdown",
   "id": "d4174d67",
   "metadata": {},
   "source": [
    "## 3. Evaluation\n",
    ">In the medical field, where accurate predictions are critical, a commonly accepted threshold for a reliable model is often set around 80% to 90% accuracy or higher. "
   ]
  },
  {
   "cell_type": "markdown",
   "id": "b118d57c",
   "metadata": {},
   "source": [
    "## 4. Features\n",
    "\n",
    "\n",
    "* `age`\n",
    "    * displays the age of the individual.\n",
    "    ------------------------------------\n",
    "\n",
    "* `sex`\n",
    "    * displays the gender of the individual using the following format :\n",
    "         - 1 = male\n",
    "         - 0 = female\n",
    "    ------------------------------------\n",
    "\n",
    "* `cp`\n",
    "    * displays the type of chest-pain experienced by the individual using the following format :\n",
    "        - 0: Typical angina: chest pain related decrease blood supply to the heart\n",
    "        - 1: Atypical angina: chest pain not related to heart\n",
    "        - 2: Non-anginal pain: typically esophageal spasms (non heart related)\n",
    "        - 3: Asymptomatic: chest pain not showing signs of disease\n",
    "    ------------------------------------\n",
    "\n",
    "* `trestbps` \n",
    "    * displays the resting blood pressure value of an individual in mmHg (unit).\n",
    "        - anything above 130-140 is typically cause for concern.\n",
    "    ------------------------------------\n",
    "\n",
    "* `chol`\n",
    "    * displays the serum cholesterol in mg/dl (unit)\n",
    "        - above 200 is cause for concern\n",
    "    ------------------------------------\n",
    "* `fbs`\n",
    "    * compares the fasting blood sugar value of an individual with 120mg/dl. If fasting blood sugar > 120mg/dl then : 1 (true) else : 0 (false) '>126' mg/dL signals diabetes\n",
    "    ------------------------------------\n",
    "* `restecg`\n",
    "    * displays resting electrocardiographic results\n",
    "        - 0 = normal \n",
    "        - 1 = having ST-T wave abnormality \n",
    "        - 2 = left ventricular hyperthrophy\n",
    "    ------------------------------------\n",
    "* `thalach`\n",
    "    * displays the max heart rate achieved by an individual.\n",
    "    ------------------------------------\n",
    "* `exang`\n",
    "    * exercise induced angina :\n",
    "        - 1 = yes \n",
    "        - 0 = no\n",
    "    ------------------------------------\n",
    "* `oldpeak`\n",
    "    * ST depression induced by exercise relative to rest: displays the value which is an integer or float.\n",
    "    ------------------------------------\n",
    "* `slope`\n",
    "    * slope of the peak exercise ST segment : \n",
    "        - 0 = upsloping: better heart rate with excercise (uncommon) \n",
    "        - 1 = flat: minimal change (typical healthy heart) \n",
    "        - 2 = downsloping: signs of unhealthy heart\n",
    "    ------------------------------------\n",
    "* `ca`\n",
    "    * number of major vessels (0–3) colored by flourosopy : displays the value as integer or float.\n",
    "    ------------------------------------\n",
    "* `thal` \n",
    "    * displays the thalassemia : \n",
    "        - 1,3 = normal \n",
    "        - 6 = fixed defect\n",
    "        - 7 = reversible defect: no proper blood movement when excercising\n",
    "    ------------------------------------\n",
    "* `target` \n",
    "    * displays whether the individual is suffering from heart disease or not : \n",
    "        - 1 = yes \n",
    "        - 0 = no"
   ]
  },
  {
   "cell_type": "code",
   "execution_count": null,
   "id": "4e62c40f",
   "metadata": {},
   "outputs": [],
   "source": []
  }
 ],
 "metadata": {
  "kernelspec": {
   "display_name": "Python 3 (ipykernel)",
   "language": "python",
   "name": "python3"
  },
  "language_info": {
   "codemirror_mode": {
    "name": "ipython",
    "version": 3
   },
   "file_extension": ".py",
   "mimetype": "text/x-python",
   "name": "python",
   "nbconvert_exporter": "python",
   "pygments_lexer": "ipython3",
   "version": "3.11.4"
  }
 },
 "nbformat": 4,
 "nbformat_minor": 5
}
