{
 "cells": [
  {
   "cell_type": "markdown",
   "id": "db759610",
   "metadata": {},
   "source": [
    "## 1. Problem Definition\n",
    "\n",
    "The objective is to build a predictive model that can take input features and accurately classify a patient as having heart disease or not"
   ]
  },
  {
   "cell_type": "markdown",
   "id": "4daa208c",
   "metadata": {},
   "source": [
    "## 2. Data"
   ]
  },
  {
   "cell_type": "code",
   "execution_count": null,
   "id": "ebea886e",
   "metadata": {},
   "outputs": [],
   "source": []
  }
 ],
 "metadata": {
  "kernelspec": {
   "display_name": "Python 3 (ipykernel)",
   "language": "python",
   "name": "python3"
  },
  "language_info": {
   "codemirror_mode": {
    "name": "ipython",
    "version": 3
   },
   "file_extension": ".py",
   "mimetype": "text/x-python",
   "name": "python",
   "nbconvert_exporter": "python",
   "pygments_lexer": "ipython3",
   "version": "3.11.4"
  }
 },
 "nbformat": 4,
 "nbformat_minor": 5
}
