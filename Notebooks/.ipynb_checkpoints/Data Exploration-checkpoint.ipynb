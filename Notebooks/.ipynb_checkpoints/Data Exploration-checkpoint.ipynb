{
 "cells": [
  {
   "cell_type": "markdown",
   "id": "a88b3bbf",
   "metadata": {},
   "source": [
    "# Data Exploration"
   ]
  },
  {
   "cell_type": "markdown",
   "id": "1cf339cf",
   "metadata": {},
   "source": [
    "## 1. Problem Definition\n",
    ">The objective is to build a predictive model that can take input features and accurately classify a patient as having heart disease or not"
   ]
  },
  {
   "cell_type": "markdown",
   "id": "ee67dbde",
   "metadata": {},
   "source": [
    "## 2. Data\n",
    "\n",
    "<b>our data came from belove link:</b>\n",
    " - [heart disease dataset](https://www.kaggle.com/datasets/sumaiyatasmeem/heart-disease-classification-dataset)\n",
    "\n",
    "> The original dataset contains 76 attributes, but here only 14 attributes will be used.\n",
    "\n",
    "The dataset used for this project contains various medical and lifestyle attributes of patients, like age, sex, cholesterol levels. The target variable indicates whether a patient has heart disease (1) or not (0).\n",
    "\n",
    "**variables**:\n",
    "      \n",
    " - `independent`: attributes and features\n",
    " \n",
    " - `dependent`: target\n",
    " "
   ]
  },
  {
   "cell_type": "markdown",
   "id": "ebab4b4e",
   "metadata": {},
   "source": [
    "## 3. evaluation\n",
    ">In the medical field, where accurate predictions are critical, a commonly accepted threshold for a reliable model is often set around 80% to 90% accuracy or higher. "
   ]
  },
  {
   "cell_type": "markdown",
   "id": "9e97ca17",
   "metadata": {},
   "source": [
    "## 4. features\n",
    "\n",
    "\n",
    "* `age`\n",
    "    * Displays the age of the individual.\n",
    "\n",
    "* `sex`\n",
    "    * Displays the gender of the individual using the following format : 1 = male 0 = female\n",
    "\n",
    "* `cp`\n",
    "    * displays the type of chest-pain experienced by the individual using the following format : 0 = typical angina 1 = atypical angina 2 = non — anginal pain 3 = asymptotic\n",
    "\n",
    "* `trestbps` \n",
    "    * displays the resting blood pressure value of an individual in mmHg (unit). anything above 130-140 is typically cause for concern.\n",
    "\n",
    "* `chol`\n",
    "    * displays the serum cholesterol in mg/dl (unit)\n",
    "\n",
    "* `fbs`\n",
    "    * compares the fasting blood sugar value of an individual with 120mg/dl. If fasting blood sugar > 120mg/dl then : 1 (true) else : 0 (false) '>126' mg/dL signals diabetes\n",
    "\n",
    "* `restecg`\n",
    "    * displays resting electrocardiographic results 0 = normal 1 = having ST-T wave abnormality 2 = left ventricular hyperthrophy\n",
    "\n",
    "* `thalach`\n",
    "    * displays the max heart rate achieved by an individual.\n",
    "\n",
    "* `exang`\n",
    "    * Exercise induced angina : 1 = yes 0 = no\n",
    "\n",
    "* `oldpeak`\n",
    "    * ST depression induced by exercise relative to rest: displays the value which is an integer or float.\n",
    "\n",
    "* `slope`\n",
    "    * Slope of the peak exercise ST segment : 0 = upsloping: better heart rate with excercise (uncommon) 1 = flat: minimal change (typical healthy heart) 2 = downsloping: signs of unhealthy heart\n",
    "\n",
    "* `ca`\n",
    "    * Number of major vessels (0–3) colored by flourosopy : displays the value as integer or float.\n",
    "\n",
    "* `thal` \n",
    "    * Displays the thalassemia : 1,3 = normal 6 = fixed defect 7 = reversible defect: no proper blood movement when excercising\n",
    "\n",
    "* `target` \n",
    "    * Displays whether the individual is suffering from heart disease or not : 1 = yes 0 = no"
   ]
  },
  {
   "cell_type": "code",
   "execution_count": null,
   "id": "561e338b",
   "metadata": {},
   "outputs": [],
   "source": []
  }
 ],
 "metadata": {
  "kernelspec": {
   "display_name": "Python 3 (ipykernel)",
   "language": "python",
   "name": "python3"
  },
  "language_info": {
   "codemirror_mode": {
    "name": "ipython",
    "version": 3
   },
   "file_extension": ".py",
   "mimetype": "text/x-python",
   "name": "python",
   "nbconvert_exporter": "python",
   "pygments_lexer": "ipython3",
   "version": "3.11.4"
  }
 },
 "nbformat": 4,
 "nbformat_minor": 5
}
